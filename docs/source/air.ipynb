{
 "metadata": {
  "language_info": {
   "codemirror_mode": {
    "name": "ipython",
    "version": 3
   },
   "file_extension": ".py",
   "mimetype": "text/x-python",
   "name": "python",
   "nbconvert_exporter": "python",
   "pygments_lexer": "ipython3",
   "version": "3.8.6-final"
  },
  "orig_nbformat": 2,
  "kernelspec": {
   "name": "python3",
   "display_name": "Python 3",
   "language": "python"
  }
 },
 "nbformat": 4,
 "nbformat_minor": 2,
 "cells": [
  {
   "source": [],
   "cell_type": "markdown",
   "metadata": {}
  },
  {
   "source": [
    "# Air Demo Notebook\n",
    "\n",
    "## Air One\n",
    "\n",
    "### Extract the raw DataFrame\n",
    "\n",
    "The project-level [extract](https://oiflib.readthedocs.io/en/latest/api.html#module-oiflib.extract) function extracts a DataFrame from an Excel or OpenDocument workbook based on the metadata contained in the [datasets.py](https://prose.io/#Defra-Data-Science-Centre-of-Excellence/oiflib/edit/initial/src/oiflib/datasets.py) dictionary.\n",
    "\n",
    "For example, the dictionary contains the following metadata for Air One:\n",
    "\n",
    "```\n",
    "oif_datasets: Dict[str, Dict[str, Dict[str, Union[str, int]]]] = {\n",
    "    \"air\": {\n",
    "        \"one\": {\n",
    "            \"io\": \"http://uk-air.defra.gov.uk/reports/cat09/2010220959_DA_API_1990-2018_V1.0.xlsx\",\n",
    "            \"sheet_name\": \"England API\",\n",
    "            \"usecols\": \"B:AA\",\n",
    "            \"skiprows\": 13,\n",
    "            \"nrows\": 1602,\n",
    "        },\n",
    "...\n",
    "}\n",
    "```\n",
    "\n",
    "To import the `extract` function run:"
   ],
   "cell_type": "markdown",
   "metadata": {}
  },
  {
   "cell_type": "code",
   "execution_count": 1,
   "metadata": {},
   "outputs": [],
   "source": [
    "from oiflib.extract import extract"
   ]
  },
  {
   "source": [
    "To use this function, pass it the `theme` and `indicator` of the DataFrame you want to extract as lower-case strings: "
   ],
   "cell_type": "markdown",
   "metadata": {}
  },
  {
   "cell_type": "code",
   "execution_count": 2,
   "metadata": {},
   "outputs": [
    {
     "output_type": "execute_result",
     "data": {
      "text/plain": [
       "  ShortPollName NFRCode                                      SourceName  \\\n",
       "0            CO    1A1a                                  Autogenerators   \n",
       "1            CO    1A1a  Miscellaneous industrial/commercial combustion   \n",
       "2            CO    1A1a                                  Power stations   \n",
       "3            CO    1A1a                        Public sector combustion   \n",
       "4            CO    1A1b                         Refineries - combustion   \n",
       "\n",
       "        1990       1995       1998       1999       2000       2001  \\\n",
       "0   0.000000   0.000000   0.000861   0.000987   0.001225   0.001165   \n",
       "1   0.372920   0.285545   0.104246   0.108912   0.118016   0.123270   \n",
       "2  91.485663  85.075695  48.035092  43.356297  52.875139  53.176906   \n",
       "3   0.009175   0.015521   0.014372   0.014410   0.012844   0.013138   \n",
       "4   4.455526   4.998781   5.248910   4.862012   3.785558   2.391528   \n",
       "\n",
       "        2002  ...       2009       2010       2011       2012       2013  \\\n",
       "0   0.001197  ...   0.072842   0.188518   0.380950   0.773427   1.108654   \n",
       "1   0.126718  ...   0.135080   0.127430   0.144871   0.148156   0.172320   \n",
       "2  52.253263  ...  49.778303  54.550899  56.543332  67.445893  65.244769   \n",
       "3   0.014227  ...   0.013591   0.015413   0.017175   0.017028   0.018264   \n",
       "4   2.788338  ...   4.460696   3.287260   2.801700   3.162767   3.266939   \n",
       "\n",
       "        2014       2015       2016       2017       2018  \n",
       "0   1.654888   2.648169   4.194255   4.936837   5.536873  \n",
       "1   0.125973   0.133799   0.127731   0.144326   0.136516  \n",
       "2  55.655886  46.738127  30.714808  30.172769  38.881950  \n",
       "3   0.018127   0.019443   0.019173   0.022132   0.021411  \n",
       "4   4.154463   5.523977   4.606405   4.050079   3.934826  \n",
       "\n",
       "[5 rows x 26 columns]"
      ],
      "text/html": "<div>\n<style scoped>\n    .dataframe tbody tr th:only-of-type {\n        vertical-align: middle;\n    }\n\n    .dataframe tbody tr th {\n        vertical-align: top;\n    }\n\n    .dataframe thead th {\n        text-align: right;\n    }\n</style>\n<table border=\"1\" class=\"dataframe\">\n  <thead>\n    <tr style=\"text-align: right;\">\n      <th></th>\n      <th>ShortPollName</th>\n      <th>NFRCode</th>\n      <th>SourceName</th>\n      <th>1990</th>\n      <th>1995</th>\n      <th>1998</th>\n      <th>1999</th>\n      <th>2000</th>\n      <th>2001</th>\n      <th>2002</th>\n      <th>...</th>\n      <th>2009</th>\n      <th>2010</th>\n      <th>2011</th>\n      <th>2012</th>\n      <th>2013</th>\n      <th>2014</th>\n      <th>2015</th>\n      <th>2016</th>\n      <th>2017</th>\n      <th>2018</th>\n    </tr>\n  </thead>\n  <tbody>\n    <tr>\n      <th>0</th>\n      <td>CO</td>\n      <td>1A1a</td>\n      <td>Autogenerators</td>\n      <td>0.000000</td>\n      <td>0.000000</td>\n      <td>0.000861</td>\n      <td>0.000987</td>\n      <td>0.001225</td>\n      <td>0.001165</td>\n      <td>0.001197</td>\n      <td>...</td>\n      <td>0.072842</td>\n      <td>0.188518</td>\n      <td>0.380950</td>\n      <td>0.773427</td>\n      <td>1.108654</td>\n      <td>1.654888</td>\n      <td>2.648169</td>\n      <td>4.194255</td>\n      <td>4.936837</td>\n      <td>5.536873</td>\n    </tr>\n    <tr>\n      <th>1</th>\n      <td>CO</td>\n      <td>1A1a</td>\n      <td>Miscellaneous industrial/commercial combustion</td>\n      <td>0.372920</td>\n      <td>0.285545</td>\n      <td>0.104246</td>\n      <td>0.108912</td>\n      <td>0.118016</td>\n      <td>0.123270</td>\n      <td>0.126718</td>\n      <td>...</td>\n      <td>0.135080</td>\n      <td>0.127430</td>\n      <td>0.144871</td>\n      <td>0.148156</td>\n      <td>0.172320</td>\n      <td>0.125973</td>\n      <td>0.133799</td>\n      <td>0.127731</td>\n      <td>0.144326</td>\n      <td>0.136516</td>\n    </tr>\n    <tr>\n      <th>2</th>\n      <td>CO</td>\n      <td>1A1a</td>\n      <td>Power stations</td>\n      <td>91.485663</td>\n      <td>85.075695</td>\n      <td>48.035092</td>\n      <td>43.356297</td>\n      <td>52.875139</td>\n      <td>53.176906</td>\n      <td>52.253263</td>\n      <td>...</td>\n      <td>49.778303</td>\n      <td>54.550899</td>\n      <td>56.543332</td>\n      <td>67.445893</td>\n      <td>65.244769</td>\n      <td>55.655886</td>\n      <td>46.738127</td>\n      <td>30.714808</td>\n      <td>30.172769</td>\n      <td>38.881950</td>\n    </tr>\n    <tr>\n      <th>3</th>\n      <td>CO</td>\n      <td>1A1a</td>\n      <td>Public sector combustion</td>\n      <td>0.009175</td>\n      <td>0.015521</td>\n      <td>0.014372</td>\n      <td>0.014410</td>\n      <td>0.012844</td>\n      <td>0.013138</td>\n      <td>0.014227</td>\n      <td>...</td>\n      <td>0.013591</td>\n      <td>0.015413</td>\n      <td>0.017175</td>\n      <td>0.017028</td>\n      <td>0.018264</td>\n      <td>0.018127</td>\n      <td>0.019443</td>\n      <td>0.019173</td>\n      <td>0.022132</td>\n      <td>0.021411</td>\n    </tr>\n    <tr>\n      <th>4</th>\n      <td>CO</td>\n      <td>1A1b</td>\n      <td>Refineries - combustion</td>\n      <td>4.455526</td>\n      <td>4.998781</td>\n      <td>5.248910</td>\n      <td>4.862012</td>\n      <td>3.785558</td>\n      <td>2.391528</td>\n      <td>2.788338</td>\n      <td>...</td>\n      <td>4.460696</td>\n      <td>3.287260</td>\n      <td>2.801700</td>\n      <td>3.162767</td>\n      <td>3.266939</td>\n      <td>4.154463</td>\n      <td>5.523977</td>\n      <td>4.606405</td>\n      <td>4.050079</td>\n      <td>3.934826</td>\n    </tr>\n  </tbody>\n</table>\n<p>5 rows × 26 columns</p>\n</div>"
     },
     "metadata": {},
     "execution_count": 2
    }
   ],
   "source": [
    "air_one_extracted = extract(theme=\"air\", indicator=\"one\")\n",
    "air_one_extracted.head()"
   ]
  },
  {
   "source": [
    "The [Air One module](https://oiflib.readthedocs.io/en/latest/api.html#air-one) contains functions to transform, enrich, and validate the extracted DataFrame.\n",
    "\n",
    "To input these functions run:"
   ],
   "cell_type": "markdown",
   "metadata": {}
  },
  {
   "cell_type": "code",
   "execution_count": 3,
   "metadata": {},
   "outputs": [],
   "source": [
    "from oiflib.air.one.enrich import enrich_air_one\n",
    "from oiflib.air.one.transform import transform_air_one\n",
    "from oiflib.air.one.validate import validate_air_one_extracted, validate_air_one_transformed, validate_air_one_enriched"
   ]
  },
  {
   "source": [
    "### Validate the extracted DataFrame\n",
    "\n",
    "`oiflib` uses the [pandera](https://pandera.readthedocs.io/en/stable/) package for schema-based data validation. The schemas for the extracted, transformed, and enriched Air One DataFrames are defined [here](https://prose.io/#Defra-Data-Science-Centre-of-Excellence/oiflib/edit/initial/src/oiflib/air/one/schemas.py). They define the column names, data-types, and allow you to [check](https://pandera.readthedocs.io/en/stable/checks.html) the values against various constraints.\n",
    "\n",
    "For example, the schema of the extracted Air One DataFrame contains the following information:\n",
    "\n",
    "```\n",
    "schema_extracted: DataFrameSchema = DataFrameSchema(\n",
    "    columns={\n",
    "        \"ShortPollName\": Column(\n",
    "            pandas_dtype=String,\n",
    "            checks=[Check.isin(values_ShortPollName_extracted)],\n",
    "        ),\n",
    "        \"NFRCode\": Column(\n",
    "            pandas_dtype=String,\n",
    "            checks=[Check.isin(values_NFRCode)],\n",
    "            nullable=True,\n",
    "        ),\n",
    "        \"SourceName\": Column(\n",
    "            pandas_dtype=String,\n",
    "            checks=[Check.isin(values_SourceName)],\n",
    "            nullable=True,\n",
    "        ),\n",
    "        r\"\\d{4}\": Column(pandas_dtype=Float, nullable=True, regex=True),\n",
    "    },\n",
    "    coerce=True,\n",
    "    strict=True,\n",
    ")\n",
    "```\n",
    "This schema checks for the existance of a \"ShortPollName\", a \"NFRCode\", and a \"SourceName\" column and any number of column names consisting of four digits. It checks that the first three contain string values, while the others contain float values. It also checks that the first three contain values from pre-defined lists.\n",
    "\n",
    "Schemas such as this prower the validation functions. If the DataFrame passed to the validation function conforms to the schema, it is returned, if not the validation function raises an error.\n",
    "\n",
    "For example, calling [validate_air_one_extracted](https://oiflib.readthedocs.io/en/latest/api.html#oiflib.air.one.validate.validate_air_one_extracted) on the DataFrame previously returned by `extract(theme=\"air\", indicator=\"one\")` returns that DataFrame."
   ],
   "cell_type": "markdown",
   "metadata": {}
  },
  {
   "cell_type": "code",
   "execution_count": 4,
   "metadata": {},
   "outputs": [
    {
     "output_type": "execute_result",
     "data": {
      "text/plain": [
       "  ShortPollName NFRCode                                      SourceName  \\\n",
       "0            CO    1A1a                                  Autogenerators   \n",
       "1            CO    1A1a  Miscellaneous industrial/commercial combustion   \n",
       "2            CO    1A1a                                  Power stations   \n",
       "3            CO    1A1a                        Public sector combustion   \n",
       "4            CO    1A1b                         Refineries - combustion   \n",
       "\n",
       "        1990       1995       1998       1999       2000       2001  \\\n",
       "0   0.000000   0.000000   0.000861   0.000987   0.001225   0.001165   \n",
       "1   0.372920   0.285545   0.104246   0.108912   0.118016   0.123270   \n",
       "2  91.485663  85.075695  48.035092  43.356297  52.875139  53.176906   \n",
       "3   0.009175   0.015521   0.014372   0.014410   0.012844   0.013138   \n",
       "4   4.455526   4.998781   5.248910   4.862012   3.785558   2.391528   \n",
       "\n",
       "        2002  ...       2009       2010       2011       2012       2013  \\\n",
       "0   0.001197  ...   0.072842   0.188518   0.380950   0.773427   1.108654   \n",
       "1   0.126718  ...   0.135080   0.127430   0.144871   0.148156   0.172320   \n",
       "2  52.253263  ...  49.778303  54.550899  56.543332  67.445893  65.244769   \n",
       "3   0.014227  ...   0.013591   0.015413   0.017175   0.017028   0.018264   \n",
       "4   2.788338  ...   4.460696   3.287260   2.801700   3.162767   3.266939   \n",
       "\n",
       "        2014       2015       2016       2017       2018  \n",
       "0   1.654888   2.648169   4.194255   4.936837   5.536873  \n",
       "1   0.125973   0.133799   0.127731   0.144326   0.136516  \n",
       "2  55.655886  46.738127  30.714808  30.172769  38.881950  \n",
       "3   0.018127   0.019443   0.019173   0.022132   0.021411  \n",
       "4   4.154463   5.523977   4.606405   4.050079   3.934826  \n",
       "\n",
       "[5 rows x 26 columns]"
      ],
      "text/html": "<div>\n<style scoped>\n    .dataframe tbody tr th:only-of-type {\n        vertical-align: middle;\n    }\n\n    .dataframe tbody tr th {\n        vertical-align: top;\n    }\n\n    .dataframe thead th {\n        text-align: right;\n    }\n</style>\n<table border=\"1\" class=\"dataframe\">\n  <thead>\n    <tr style=\"text-align: right;\">\n      <th></th>\n      <th>ShortPollName</th>\n      <th>NFRCode</th>\n      <th>SourceName</th>\n      <th>1990</th>\n      <th>1995</th>\n      <th>1998</th>\n      <th>1999</th>\n      <th>2000</th>\n      <th>2001</th>\n      <th>2002</th>\n      <th>...</th>\n      <th>2009</th>\n      <th>2010</th>\n      <th>2011</th>\n      <th>2012</th>\n      <th>2013</th>\n      <th>2014</th>\n      <th>2015</th>\n      <th>2016</th>\n      <th>2017</th>\n      <th>2018</th>\n    </tr>\n  </thead>\n  <tbody>\n    <tr>\n      <th>0</th>\n      <td>CO</td>\n      <td>1A1a</td>\n      <td>Autogenerators</td>\n      <td>0.000000</td>\n      <td>0.000000</td>\n      <td>0.000861</td>\n      <td>0.000987</td>\n      <td>0.001225</td>\n      <td>0.001165</td>\n      <td>0.001197</td>\n      <td>...</td>\n      <td>0.072842</td>\n      <td>0.188518</td>\n      <td>0.380950</td>\n      <td>0.773427</td>\n      <td>1.108654</td>\n      <td>1.654888</td>\n      <td>2.648169</td>\n      <td>4.194255</td>\n      <td>4.936837</td>\n      <td>5.536873</td>\n    </tr>\n    <tr>\n      <th>1</th>\n      <td>CO</td>\n      <td>1A1a</td>\n      <td>Miscellaneous industrial/commercial combustion</td>\n      <td>0.372920</td>\n      <td>0.285545</td>\n      <td>0.104246</td>\n      <td>0.108912</td>\n      <td>0.118016</td>\n      <td>0.123270</td>\n      <td>0.126718</td>\n      <td>...</td>\n      <td>0.135080</td>\n      <td>0.127430</td>\n      <td>0.144871</td>\n      <td>0.148156</td>\n      <td>0.172320</td>\n      <td>0.125973</td>\n      <td>0.133799</td>\n      <td>0.127731</td>\n      <td>0.144326</td>\n      <td>0.136516</td>\n    </tr>\n    <tr>\n      <th>2</th>\n      <td>CO</td>\n      <td>1A1a</td>\n      <td>Power stations</td>\n      <td>91.485663</td>\n      <td>85.075695</td>\n      <td>48.035092</td>\n      <td>43.356297</td>\n      <td>52.875139</td>\n      <td>53.176906</td>\n      <td>52.253263</td>\n      <td>...</td>\n      <td>49.778303</td>\n      <td>54.550899</td>\n      <td>56.543332</td>\n      <td>67.445893</td>\n      <td>65.244769</td>\n      <td>55.655886</td>\n      <td>46.738127</td>\n      <td>30.714808</td>\n      <td>30.172769</td>\n      <td>38.881950</td>\n    </tr>\n    <tr>\n      <th>3</th>\n      <td>CO</td>\n      <td>1A1a</td>\n      <td>Public sector combustion</td>\n      <td>0.009175</td>\n      <td>0.015521</td>\n      <td>0.014372</td>\n      <td>0.014410</td>\n      <td>0.012844</td>\n      <td>0.013138</td>\n      <td>0.014227</td>\n      <td>...</td>\n      <td>0.013591</td>\n      <td>0.015413</td>\n      <td>0.017175</td>\n      <td>0.017028</td>\n      <td>0.018264</td>\n      <td>0.018127</td>\n      <td>0.019443</td>\n      <td>0.019173</td>\n      <td>0.022132</td>\n      <td>0.021411</td>\n    </tr>\n    <tr>\n      <th>4</th>\n      <td>CO</td>\n      <td>1A1b</td>\n      <td>Refineries - combustion</td>\n      <td>4.455526</td>\n      <td>4.998781</td>\n      <td>5.248910</td>\n      <td>4.862012</td>\n      <td>3.785558</td>\n      <td>2.391528</td>\n      <td>2.788338</td>\n      <td>...</td>\n      <td>4.460696</td>\n      <td>3.287260</td>\n      <td>2.801700</td>\n      <td>3.162767</td>\n      <td>3.266939</td>\n      <td>4.154463</td>\n      <td>5.523977</td>\n      <td>4.606405</td>\n      <td>4.050079</td>\n      <td>3.934826</td>\n    </tr>\n  </tbody>\n</table>\n<p>5 rows × 26 columns</p>\n</div>"
     },
     "metadata": {},
     "execution_count": 4
    }
   ],
   "source": [
    "air_one_extracted_validated = validate_air_one_extracted(air_one_extracted)\n",
    "air_one_extracted_validated.head()"
   ]
  },
  {
   "source": [
    "However, calling it on another DataFrame results in a SchemaError."
   ],
   "cell_type": "markdown",
   "metadata": {}
  },
  {
   "cell_type": "code",
   "execution_count": 5,
   "metadata": {},
   "outputs": [
    {
     "output_type": "error",
     "ename": "SchemaError",
     "evalue": "column 'NCFormat' not in DataFrameSchema {'ShortPollName': <Schema Column: 'ShortPollName' type=str>, 'NFRCode': <Schema Column: 'NFRCode' type=str>, 'SourceName': <Schema Column: 'SourceName' type=str>, '\\\\d{4}': <Schema Column: '\\d{4}' type=float>}",
     "traceback": [
      "\u001b[0;31m---------------------------------------------------------------------------\u001b[0m",
      "\u001b[0;31mSchemaError\u001b[0m                               Traceback (most recent call last)",
      "\u001b[0;32m<ipython-input-5-a6affae18663>\u001b[0m in \u001b[0;36m<module>\u001b[0;34m\u001b[0m\n\u001b[0;32m----> 1\u001b[0;31m \u001b[0mextract\u001b[0m\u001b[0;34m(\u001b[0m\u001b[0mtheme\u001b[0m\u001b[0;34m=\u001b[0m\u001b[0;34m\"air\"\u001b[0m\u001b[0;34m,\u001b[0m \u001b[0mindicator\u001b[0m\u001b[0;34m=\u001b[0m\u001b[0;34m\"two\"\u001b[0m\u001b[0;34m)\u001b[0m\u001b[0;34m.\u001b[0m\u001b[0mpipe\u001b[0m\u001b[0;34m(\u001b[0m\u001b[0mvalidate_air_one_extracted\u001b[0m\u001b[0;34m)\u001b[0m\u001b[0;34m\u001b[0m\u001b[0;34m\u001b[0m\u001b[0m\n\u001b[0m",
      "\u001b[0;32m~/.cache/pypoetry/virtualenvs/oiflib-tbKNJoxe-py3.8/lib/python3.8/site-packages/pandas/core/generic.py\u001b[0m in \u001b[0;36mpipe\u001b[0;34m(self, func, *args, **kwargs)\u001b[0m\n\u001b[1;32m   5401\u001b[0m         ...  )  # doctest: +SKIP\n\u001b[1;32m   5402\u001b[0m         \"\"\"\n\u001b[0;32m-> 5403\u001b[0;31m         \u001b[0;32mreturn\u001b[0m \u001b[0mcom\u001b[0m\u001b[0;34m.\u001b[0m\u001b[0mpipe\u001b[0m\u001b[0;34m(\u001b[0m\u001b[0mself\u001b[0m\u001b[0;34m,\u001b[0m \u001b[0mfunc\u001b[0m\u001b[0;34m,\u001b[0m \u001b[0;34m*\u001b[0m\u001b[0margs\u001b[0m\u001b[0;34m,\u001b[0m \u001b[0;34m**\u001b[0m\u001b[0mkwargs\u001b[0m\u001b[0;34m)\u001b[0m\u001b[0;34m\u001b[0m\u001b[0;34m\u001b[0m\u001b[0m\n\u001b[0m\u001b[1;32m   5404\u001b[0m \u001b[0;34m\u001b[0m\u001b[0m\n\u001b[1;32m   5405\u001b[0m     \u001b[0;31m# ----------------------------------------------------------------------\u001b[0m\u001b[0;34m\u001b[0m\u001b[0;34m\u001b[0m\u001b[0;34m\u001b[0m\u001b[0m\n",
      "\u001b[0;32m~/.cache/pypoetry/virtualenvs/oiflib-tbKNJoxe-py3.8/lib/python3.8/site-packages/pandas/core/common.py\u001b[0m in \u001b[0;36mpipe\u001b[0;34m(obj, func, *args, **kwargs)\u001b[0m\n\u001b[1;32m    438\u001b[0m         \u001b[0;32mreturn\u001b[0m \u001b[0mfunc\u001b[0m\u001b[0;34m(\u001b[0m\u001b[0;34m*\u001b[0m\u001b[0margs\u001b[0m\u001b[0;34m,\u001b[0m \u001b[0;34m**\u001b[0m\u001b[0mkwargs\u001b[0m\u001b[0;34m)\u001b[0m\u001b[0;34m\u001b[0m\u001b[0;34m\u001b[0m\u001b[0m\n\u001b[1;32m    439\u001b[0m     \u001b[0;32melse\u001b[0m\u001b[0;34m:\u001b[0m\u001b[0;34m\u001b[0m\u001b[0;34m\u001b[0m\u001b[0m\n\u001b[0;32m--> 440\u001b[0;31m         \u001b[0;32mreturn\u001b[0m \u001b[0mfunc\u001b[0m\u001b[0;34m(\u001b[0m\u001b[0mobj\u001b[0m\u001b[0;34m,\u001b[0m \u001b[0;34m*\u001b[0m\u001b[0margs\u001b[0m\u001b[0;34m,\u001b[0m \u001b[0;34m**\u001b[0m\u001b[0mkwargs\u001b[0m\u001b[0;34m)\u001b[0m\u001b[0;34m\u001b[0m\u001b[0;34m\u001b[0m\u001b[0m\n\u001b[0m\u001b[1;32m    441\u001b[0m \u001b[0;34m\u001b[0m\u001b[0m\n\u001b[1;32m    442\u001b[0m \u001b[0;34m\u001b[0m\u001b[0m\n",
      "\u001b[0;32m~/repos/oiflib/src/oiflib/air/one/validate.py\u001b[0m in \u001b[0;36mvalidate_air_one_extracted\u001b[0;34m(df)\u001b[0m\n\u001b[1;32m     23\u001b[0m         \u001b[0minvalid\u001b[0m \u001b[0mDataFrame\u001b[0m\u001b[0;34m,\u001b[0m \u001b[0ma\u001b[0m \u001b[0mSchemaError\u001b[0m\u001b[0;34m.\u001b[0m\u001b[0;34m\u001b[0m\u001b[0;34m\u001b[0m\u001b[0m\n\u001b[1;32m     24\u001b[0m     \"\"\"\n\u001b[0;32m---> 25\u001b[0;31m     \u001b[0;32mreturn\u001b[0m \u001b[0mschema_extracted\u001b[0m\u001b[0;34m(\u001b[0m\u001b[0mdf\u001b[0m\u001b[0;34m)\u001b[0m\u001b[0;34m\u001b[0m\u001b[0;34m\u001b[0m\u001b[0m\n\u001b[0m\u001b[1;32m     26\u001b[0m \u001b[0;34m\u001b[0m\u001b[0m\n\u001b[1;32m     27\u001b[0m \u001b[0;34m\u001b[0m\u001b[0m\n",
      "\u001b[0;32m~/.cache/pypoetry/virtualenvs/oiflib-tbKNJoxe-py3.8/lib/python3.8/site-packages/pandera/schemas.py\u001b[0m in \u001b[0;36m__call__\u001b[0;34m(self, dataframe, head, tail, sample, random_state, lazy, inplace)\u001b[0m\n\u001b[1;32m    624\u001b[0m             \u001b[0motherwise\u001b[0m \u001b[0mcreates\u001b[0m \u001b[0ma\u001b[0m \u001b[0mcopy\u001b[0m \u001b[0mof\u001b[0m \u001b[0mthe\u001b[0m \u001b[0mdata\u001b[0m\u001b[0;34m.\u001b[0m\u001b[0;34m\u001b[0m\u001b[0;34m\u001b[0m\u001b[0m\n\u001b[1;32m    625\u001b[0m         \"\"\"\n\u001b[0;32m--> 626\u001b[0;31m         return self.validate(\n\u001b[0m\u001b[1;32m    627\u001b[0m             \u001b[0mdataframe\u001b[0m\u001b[0;34m,\u001b[0m \u001b[0mhead\u001b[0m\u001b[0;34m,\u001b[0m \u001b[0mtail\u001b[0m\u001b[0;34m,\u001b[0m \u001b[0msample\u001b[0m\u001b[0;34m,\u001b[0m \u001b[0mrandom_state\u001b[0m\u001b[0;34m,\u001b[0m \u001b[0mlazy\u001b[0m\u001b[0;34m,\u001b[0m \u001b[0minplace\u001b[0m\u001b[0;34m\u001b[0m\u001b[0;34m\u001b[0m\u001b[0m\n\u001b[1;32m    628\u001b[0m         )\n",
      "\u001b[0;32m~/.cache/pypoetry/virtualenvs/oiflib-tbKNJoxe-py3.8/lib/python3.8/site-packages/pandera/schemas.py\u001b[0m in \u001b[0;36mvalidate\u001b[0;34m(self, check_obj, head, tail, sample, random_state, lazy, inplace)\u001b[0m\n\u001b[1;32m    468\u001b[0m                 \u001b[0;32mif\u001b[0m \u001b[0mself\u001b[0m\u001b[0;34m.\u001b[0m\u001b[0mstrict\u001b[0m \u001b[0;32mand\u001b[0m \u001b[0;32mnot\u001b[0m \u001b[0mis_schema_col\u001b[0m\u001b[0;34m:\u001b[0m\u001b[0;34m\u001b[0m\u001b[0;34m\u001b[0m\u001b[0m\n\u001b[1;32m    469\u001b[0m                     \u001b[0mmsg\u001b[0m \u001b[0;34m=\u001b[0m \u001b[0;34mf\"column '{column}' not in DataFrameSchema {self.columns}\"\u001b[0m\u001b[0;34m\u001b[0m\u001b[0;34m\u001b[0m\u001b[0m\n\u001b[0;32m--> 470\u001b[0;31m                     error_handler.collect_error(\n\u001b[0m\u001b[1;32m    471\u001b[0m                         \u001b[0;34m\"column_not_in_schema\"\u001b[0m\u001b[0;34m,\u001b[0m\u001b[0;34m\u001b[0m\u001b[0;34m\u001b[0m\u001b[0m\n\u001b[1;32m    472\u001b[0m                         errors.SchemaError(\n",
      "\u001b[0;32m~/.cache/pypoetry/virtualenvs/oiflib-tbKNJoxe-py3.8/lib/python3.8/site-packages/pandera/error_handlers.py\u001b[0m in \u001b[0;36mcollect_error\u001b[0;34m(self, reason_code, schema_error, original_exc)\u001b[0m\n\u001b[1;32m     30\u001b[0m         \"\"\"\n\u001b[1;32m     31\u001b[0m         \u001b[0;32mif\u001b[0m \u001b[0;32mnot\u001b[0m \u001b[0mself\u001b[0m\u001b[0;34m.\u001b[0m\u001b[0m_lazy\u001b[0m\u001b[0;34m:\u001b[0m\u001b[0;34m\u001b[0m\u001b[0;34m\u001b[0m\u001b[0m\n\u001b[0;32m---> 32\u001b[0;31m             \u001b[0;32mraise\u001b[0m \u001b[0mschema_error\u001b[0m \u001b[0;32mfrom\u001b[0m \u001b[0moriginal_exc\u001b[0m\u001b[0;34m\u001b[0m\u001b[0;34m\u001b[0m\u001b[0m\n\u001b[0m\u001b[1;32m     33\u001b[0m \u001b[0;34m\u001b[0m\u001b[0m\n\u001b[1;32m     34\u001b[0m         \u001b[0;31m# delete data of validated object from SchemaError object to prevent\u001b[0m\u001b[0;34m\u001b[0m\u001b[0;34m\u001b[0m\u001b[0;34m\u001b[0m\u001b[0m\n",
      "\u001b[0;31mSchemaError\u001b[0m: column 'NCFormat' not in DataFrameSchema {'ShortPollName': <Schema Column: 'ShortPollName' type=str>, 'NFRCode': <Schema Column: 'NFRCode' type=str>, 'SourceName': <Schema Column: 'SourceName' type=str>, '\\\\d{4}': <Schema Column: '\\d{4}' type=float>}"
     ]
    }
   ],
   "source": [
    "extract(theme=\"air\", indicator=\"two\").pipe(validate_air_one_extracted)"
   ]
  },
  {
   "source": [
    "### Transform the extracted DataFrame\n",
    "\n",
    "The [transform_air_one](https://oiflib.readthedocs.io/en/latest/api.html#oiflib.air.one.transform.transform_air_one) function combines the following actions:\n",
    "\n",
    "- It applies a filter to \"ShortPollName\" to return only the total rows for the five pollutants.  \n",
    "- It drops the unused \"NFRCode\" and \"SourceName\" columns.\n",
    "- It removes \" Total\" from the \"ShortPollName\" column and changes “VOC” to “NMVOC”\n",
    "- It unpivots the <year> column names into an EmissionYear column and their values into an Emission column."
   ],
   "cell_type": "markdown",
   "metadata": {}
  },
  {
   "cell_type": "code",
   "execution_count": 6,
   "metadata": {},
   "outputs": [
    {
     "output_type": "execute_result",
     "data": {
      "text/plain": [
       "  ShortPollName EmissionYear     Emission\n",
       "0           NOx         1990  2397.847344\n",
       "1         PM2.5         1990   174.144903\n",
       "2           SO2         1990  3134.835121\n",
       "3         NMVOC         1990  2109.138181\n",
       "4           NH3         1990   232.760876"
      ],
      "text/html": "<div>\n<style scoped>\n    .dataframe tbody tr th:only-of-type {\n        vertical-align: middle;\n    }\n\n    .dataframe tbody tr th {\n        vertical-align: top;\n    }\n\n    .dataframe thead th {\n        text-align: right;\n    }\n</style>\n<table border=\"1\" class=\"dataframe\">\n  <thead>\n    <tr style=\"text-align: right;\">\n      <th></th>\n      <th>ShortPollName</th>\n      <th>EmissionYear</th>\n      <th>Emission</th>\n    </tr>\n  </thead>\n  <tbody>\n    <tr>\n      <th>0</th>\n      <td>NOx</td>\n      <td>1990</td>\n      <td>2397.847344</td>\n    </tr>\n    <tr>\n      <th>1</th>\n      <td>PM2.5</td>\n      <td>1990</td>\n      <td>174.144903</td>\n    </tr>\n    <tr>\n      <th>2</th>\n      <td>SO2</td>\n      <td>1990</td>\n      <td>3134.835121</td>\n    </tr>\n    <tr>\n      <th>3</th>\n      <td>NMVOC</td>\n      <td>1990</td>\n      <td>2109.138181</td>\n    </tr>\n    <tr>\n      <th>4</th>\n      <td>NH3</td>\n      <td>1990</td>\n      <td>232.760876</td>\n    </tr>\n  </tbody>\n</table>\n</div>"
     },
     "metadata": {},
     "execution_count": 6
    }
   ],
   "source": [
    "air_one_transformed = transform_air_one(air_one_extracted_validated)\n",
    "air_one_transformed.head()"
   ]
  },
  {
   "source": [
    "Like `validate_air_one_extracted`, the [validate_air_one_transformed](https://oiflib.readthedocs.io/en/latest/api.html#oiflib.air.one.validate.validate_air_one_transformed) function checks the output against a schema."
   ],
   "cell_type": "markdown",
   "metadata": {}
  },
  {
   "cell_type": "code",
   "execution_count": 7,
   "metadata": {},
   "outputs": [
    {
     "output_type": "execute_result",
     "data": {
      "text/plain": [
       "  ShortPollName  EmissionYear     Emission\n",
       "0           NOx          1990  2397.847344\n",
       "1         PM2.5          1990   174.144903\n",
       "2           SO2          1990  3134.835121\n",
       "3         NMVOC          1990  2109.138181\n",
       "4           NH3          1990   232.760876"
      ],
      "text/html": "<div>\n<style scoped>\n    .dataframe tbody tr th:only-of-type {\n        vertical-align: middle;\n    }\n\n    .dataframe tbody tr th {\n        vertical-align: top;\n    }\n\n    .dataframe thead th {\n        text-align: right;\n    }\n</style>\n<table border=\"1\" class=\"dataframe\">\n  <thead>\n    <tr style=\"text-align: right;\">\n      <th></th>\n      <th>ShortPollName</th>\n      <th>EmissionYear</th>\n      <th>Emission</th>\n    </tr>\n  </thead>\n  <tbody>\n    <tr>\n      <th>0</th>\n      <td>NOx</td>\n      <td>1990</td>\n      <td>2397.847344</td>\n    </tr>\n    <tr>\n      <th>1</th>\n      <td>PM2.5</td>\n      <td>1990</td>\n      <td>174.144903</td>\n    </tr>\n    <tr>\n      <th>2</th>\n      <td>SO2</td>\n      <td>1990</td>\n      <td>3134.835121</td>\n    </tr>\n    <tr>\n      <th>3</th>\n      <td>NMVOC</td>\n      <td>1990</td>\n      <td>2109.138181</td>\n    </tr>\n    <tr>\n      <th>4</th>\n      <td>NH3</td>\n      <td>1990</td>\n      <td>232.760876</td>\n    </tr>\n  </tbody>\n</table>\n</div>"
     },
     "metadata": {},
     "execution_count": 7
    }
   ],
   "source": [
    "air_one_transformed_validated = validate_air_one_transformed(air_one_transformed)\n",
    "air_one_transformed_validated.head()"
   ]
  },
  {
   "source": [
    "### Enrich the transformed DataFrame\n",
    "\n",
    "Finally, the [enrich_air_one](https://oiflib.readthedocs.io/en/latest/api.html#oiflib.air.one.validate.validate_air_one_transformed) function adds an “Index” column with “Emission” values indexed to base year for each pollutant."
   ],
   "cell_type": "markdown",
   "metadata": {}
  },
  {
   "cell_type": "code",
   "execution_count": 8,
   "metadata": {},
   "outputs": [
    {
     "output_type": "execute_result",
     "data": {
      "text/plain": [
       "  ShortPollName  EmissionYear     Emission  Index\n",
       "0           NOx          1990  2397.847344  100.0\n",
       "1         PM2.5          1990   174.144903  100.0\n",
       "2           SO2          1990  3134.835121  100.0\n",
       "3         NMVOC          1990  2109.138181  100.0\n",
       "4           NH3          1990   232.760876  100.0"
      ],
      "text/html": "<div>\n<style scoped>\n    .dataframe tbody tr th:only-of-type {\n        vertical-align: middle;\n    }\n\n    .dataframe tbody tr th {\n        vertical-align: top;\n    }\n\n    .dataframe thead th {\n        text-align: right;\n    }\n</style>\n<table border=\"1\" class=\"dataframe\">\n  <thead>\n    <tr style=\"text-align: right;\">\n      <th></th>\n      <th>ShortPollName</th>\n      <th>EmissionYear</th>\n      <th>Emission</th>\n      <th>Index</th>\n    </tr>\n  </thead>\n  <tbody>\n    <tr>\n      <th>0</th>\n      <td>NOx</td>\n      <td>1990</td>\n      <td>2397.847344</td>\n      <td>100.0</td>\n    </tr>\n    <tr>\n      <th>1</th>\n      <td>PM2.5</td>\n      <td>1990</td>\n      <td>174.144903</td>\n      <td>100.0</td>\n    </tr>\n    <tr>\n      <th>2</th>\n      <td>SO2</td>\n      <td>1990</td>\n      <td>3134.835121</td>\n      <td>100.0</td>\n    </tr>\n    <tr>\n      <th>3</th>\n      <td>NMVOC</td>\n      <td>1990</td>\n      <td>2109.138181</td>\n      <td>100.0</td>\n    </tr>\n    <tr>\n      <th>4</th>\n      <td>NH3</td>\n      <td>1990</td>\n      <td>232.760876</td>\n      <td>100.0</td>\n    </tr>\n  </tbody>\n</table>\n</div>"
     },
     "metadata": {},
     "execution_count": 8
    }
   ],
   "source": [
    "air_one_enriched = enrich_air_one(air_one_transformed_validated)\n",
    "air_one_enriched.head()"
   ]
  },
  {
   "source": [
    "and the [validate_air_one_enriched](https://oiflib.readthedocs.io/en/latest/api.html#oiflib.air.one.validate.validate_air_one_enriched) function checks the output against a schema."
   ],
   "cell_type": "markdown",
   "metadata": {}
  },
  {
   "cell_type": "code",
   "execution_count": 9,
   "metadata": {},
   "outputs": [
    {
     "output_type": "execute_result",
     "data": {
      "text/plain": [
       "    ShortPollName  EmissionYear     Emission       Index\n",
       "0             NOx          1990  2397.847344  100.000000\n",
       "1           PM2.5          1990   174.144903  100.000000\n",
       "2             SO2          1990  3134.835121  100.000000\n",
       "3           NMVOC          1990  2109.138181  100.000000\n",
       "4             NH3          1990   232.760876  100.000000\n",
       "..            ...           ...          ...         ...\n",
       "110           NOx          2018   604.799111   25.222586\n",
       "111         PM2.5          2018    83.142806   47.743462\n",
       "112           SO2          2018   118.684955    3.786003\n",
       "113         NMVOC          2018   526.173425   24.947319\n",
       "114           NH3          2018   189.813783   81.548835\n",
       "\n",
       "[115 rows x 4 columns]"
      ],
      "text/html": "<div>\n<style scoped>\n    .dataframe tbody tr th:only-of-type {\n        vertical-align: middle;\n    }\n\n    .dataframe tbody tr th {\n        vertical-align: top;\n    }\n\n    .dataframe thead th {\n        text-align: right;\n    }\n</style>\n<table border=\"1\" class=\"dataframe\">\n  <thead>\n    <tr style=\"text-align: right;\">\n      <th></th>\n      <th>ShortPollName</th>\n      <th>EmissionYear</th>\n      <th>Emission</th>\n      <th>Index</th>\n    </tr>\n  </thead>\n  <tbody>\n    <tr>\n      <th>0</th>\n      <td>NOx</td>\n      <td>1990</td>\n      <td>2397.847344</td>\n      <td>100.000000</td>\n    </tr>\n    <tr>\n      <th>1</th>\n      <td>PM2.5</td>\n      <td>1990</td>\n      <td>174.144903</td>\n      <td>100.000000</td>\n    </tr>\n    <tr>\n      <th>2</th>\n      <td>SO2</td>\n      <td>1990</td>\n      <td>3134.835121</td>\n      <td>100.000000</td>\n    </tr>\n    <tr>\n      <th>3</th>\n      <td>NMVOC</td>\n      <td>1990</td>\n      <td>2109.138181</td>\n      <td>100.000000</td>\n    </tr>\n    <tr>\n      <th>4</th>\n      <td>NH3</td>\n      <td>1990</td>\n      <td>232.760876</td>\n      <td>100.000000</td>\n    </tr>\n    <tr>\n      <th>...</th>\n      <td>...</td>\n      <td>...</td>\n      <td>...</td>\n      <td>...</td>\n    </tr>\n    <tr>\n      <th>110</th>\n      <td>NOx</td>\n      <td>2018</td>\n      <td>604.799111</td>\n      <td>25.222586</td>\n    </tr>\n    <tr>\n      <th>111</th>\n      <td>PM2.5</td>\n      <td>2018</td>\n      <td>83.142806</td>\n      <td>47.743462</td>\n    </tr>\n    <tr>\n      <th>112</th>\n      <td>SO2</td>\n      <td>2018</td>\n      <td>118.684955</td>\n      <td>3.786003</td>\n    </tr>\n    <tr>\n      <th>113</th>\n      <td>NMVOC</td>\n      <td>2018</td>\n      <td>526.173425</td>\n      <td>24.947319</td>\n    </tr>\n    <tr>\n      <th>114</th>\n      <td>NH3</td>\n      <td>2018</td>\n      <td>189.813783</td>\n      <td>81.548835</td>\n    </tr>\n  </tbody>\n</table>\n<p>115 rows × 4 columns</p>\n</div>"
     },
     "metadata": {},
     "execution_count": 9
    }
   ],
   "source": [
    "air_one_enriched_validated = validate_air_one_enriched(air_one_enriched)\n",
    "air_one_enriched_validated"
   ]
  },
  {
   "source": [
    "## Air Two"
   ],
   "cell_type": "markdown",
   "metadata": {}
  },
  {
   "cell_type": "code",
   "execution_count": 12,
   "metadata": {},
   "outputs": [],
   "source": [
    "from oiflib.air.two.enrich import enrich_air_two\n",
    "from oiflib.air.two.transform import transform_air_two\n",
    "from oiflib.air.two.validate import validate_air_two_extracted, validate_air_two_transformed, validate_air_two_enriched"
   ]
  },
  {
   "cell_type": "code",
   "execution_count": 14,
   "metadata": {},
   "outputs": [
    {
     "output_type": "execute_result",
     "data": {
      "text/plain": [
       "      NCFormat                                           IPCC     BaseYear  \\\n",
       "0  Agriculture  1A4ci_Agriculture/Forestry/Fishing:Stationary   448.236698   \n",
       "1          NaN   1A4cii_Agriculture/Forestry/Fishing:Off-road  2719.368825   \n",
       "2          NaN                              2D1_Lubricant_Use     7.767285   \n",
       "3          NaN         3A1a Enteric Fermentation - dairy cows  4937.546160   \n",
       "4          NaN       3A1b Enteric Fermentation - other cattle  6909.494541   \n",
       "\n",
       "          1990         1995         1998         1999         2000  \\\n",
       "0   448.236698   549.552528   367.605127   438.324328   270.438785   \n",
       "1  2719.368825  2719.368825  2725.387975  2671.554418  2593.149380   \n",
       "2     7.767285     9.314177     5.806529     5.897370     3.859179   \n",
       "3  4937.546160  4586.433364  4373.198388  4449.788727  4224.340265   \n",
       "4  6909.494541  6736.106166  6539.617956  6516.940354  6368.233216   \n",
       "\n",
       "          2001         2002  ...         2009         2010         2011  \\\n",
       "0   376.522194   356.921967  ...   196.404229   189.943964   197.062955   \n",
       "1  2548.670148  2540.413980  ...  2153.009015  2167.667714  2195.136386   \n",
       "2     3.645740     3.812217  ...     0.654481     1.092524     0.948288   \n",
       "3  4092.551756  4064.182392  ...  3440.086625  3480.483444  3431.864940   \n",
       "4  5899.738748  5650.652492  ...  5834.378682  5901.872202  5784.199641   \n",
       "\n",
       "          2012         2013         2014         2015         2016  \\\n",
       "0   198.134368   191.095244   193.034749   191.176744   196.278836   \n",
       "1  2261.784209  2234.870631  2258.096455  2353.529130  2486.566932   \n",
       "2     0.462465     0.531016     0.368654     0.285644     0.245859   \n",
       "3  3362.599433  3415.878472  3581.989287  3629.927430  3549.688230   \n",
       "4  5714.541864  5710.529243  5695.926779  5654.749455  5702.018023   \n",
       "\n",
       "          2017         2018  \n",
       "0   199.425277   210.582748  \n",
       "1  2511.366672  2506.152075  \n",
       "2     0.247250     0.077642  \n",
       "3  3597.600232  3575.281527  \n",
       "4  5649.271323  5595.926070  \n",
       "\n",
       "[5 rows x 26 columns]"
      ],
      "text/html": "<div>\n<style scoped>\n    .dataframe tbody tr th:only-of-type {\n        vertical-align: middle;\n    }\n\n    .dataframe tbody tr th {\n        vertical-align: top;\n    }\n\n    .dataframe thead th {\n        text-align: right;\n    }\n</style>\n<table border=\"1\" class=\"dataframe\">\n  <thead>\n    <tr style=\"text-align: right;\">\n      <th></th>\n      <th>NCFormat</th>\n      <th>IPCC</th>\n      <th>BaseYear</th>\n      <th>1990</th>\n      <th>1995</th>\n      <th>1998</th>\n      <th>1999</th>\n      <th>2000</th>\n      <th>2001</th>\n      <th>2002</th>\n      <th>...</th>\n      <th>2009</th>\n      <th>2010</th>\n      <th>2011</th>\n      <th>2012</th>\n      <th>2013</th>\n      <th>2014</th>\n      <th>2015</th>\n      <th>2016</th>\n      <th>2017</th>\n      <th>2018</th>\n    </tr>\n  </thead>\n  <tbody>\n    <tr>\n      <th>0</th>\n      <td>Agriculture</td>\n      <td>1A4ci_Agriculture/Forestry/Fishing:Stationary</td>\n      <td>448.236698</td>\n      <td>448.236698</td>\n      <td>549.552528</td>\n      <td>367.605127</td>\n      <td>438.324328</td>\n      <td>270.438785</td>\n      <td>376.522194</td>\n      <td>356.921967</td>\n      <td>...</td>\n      <td>196.404229</td>\n      <td>189.943964</td>\n      <td>197.062955</td>\n      <td>198.134368</td>\n      <td>191.095244</td>\n      <td>193.034749</td>\n      <td>191.176744</td>\n      <td>196.278836</td>\n      <td>199.425277</td>\n      <td>210.582748</td>\n    </tr>\n    <tr>\n      <th>1</th>\n      <td>NaN</td>\n      <td>1A4cii_Agriculture/Forestry/Fishing:Off-road</td>\n      <td>2719.368825</td>\n      <td>2719.368825</td>\n      <td>2719.368825</td>\n      <td>2725.387975</td>\n      <td>2671.554418</td>\n      <td>2593.149380</td>\n      <td>2548.670148</td>\n      <td>2540.413980</td>\n      <td>...</td>\n      <td>2153.009015</td>\n      <td>2167.667714</td>\n      <td>2195.136386</td>\n      <td>2261.784209</td>\n      <td>2234.870631</td>\n      <td>2258.096455</td>\n      <td>2353.529130</td>\n      <td>2486.566932</td>\n      <td>2511.366672</td>\n      <td>2506.152075</td>\n    </tr>\n    <tr>\n      <th>2</th>\n      <td>NaN</td>\n      <td>2D1_Lubricant_Use</td>\n      <td>7.767285</td>\n      <td>7.767285</td>\n      <td>9.314177</td>\n      <td>5.806529</td>\n      <td>5.897370</td>\n      <td>3.859179</td>\n      <td>3.645740</td>\n      <td>3.812217</td>\n      <td>...</td>\n      <td>0.654481</td>\n      <td>1.092524</td>\n      <td>0.948288</td>\n      <td>0.462465</td>\n      <td>0.531016</td>\n      <td>0.368654</td>\n      <td>0.285644</td>\n      <td>0.245859</td>\n      <td>0.247250</td>\n      <td>0.077642</td>\n    </tr>\n    <tr>\n      <th>3</th>\n      <td>NaN</td>\n      <td>3A1a Enteric Fermentation - dairy cows</td>\n      <td>4937.546160</td>\n      <td>4937.546160</td>\n      <td>4586.433364</td>\n      <td>4373.198388</td>\n      <td>4449.788727</td>\n      <td>4224.340265</td>\n      <td>4092.551756</td>\n      <td>4064.182392</td>\n      <td>...</td>\n      <td>3440.086625</td>\n      <td>3480.483444</td>\n      <td>3431.864940</td>\n      <td>3362.599433</td>\n      <td>3415.878472</td>\n      <td>3581.989287</td>\n      <td>3629.927430</td>\n      <td>3549.688230</td>\n      <td>3597.600232</td>\n      <td>3575.281527</td>\n    </tr>\n    <tr>\n      <th>4</th>\n      <td>NaN</td>\n      <td>3A1b Enteric Fermentation - other cattle</td>\n      <td>6909.494541</td>\n      <td>6909.494541</td>\n      <td>6736.106166</td>\n      <td>6539.617956</td>\n      <td>6516.940354</td>\n      <td>6368.233216</td>\n      <td>5899.738748</td>\n      <td>5650.652492</td>\n      <td>...</td>\n      <td>5834.378682</td>\n      <td>5901.872202</td>\n      <td>5784.199641</td>\n      <td>5714.541864</td>\n      <td>5710.529243</td>\n      <td>5695.926779</td>\n      <td>5654.749455</td>\n      <td>5702.018023</td>\n      <td>5649.271323</td>\n      <td>5595.926070</td>\n    </tr>\n  </tbody>\n</table>\n<p>5 rows × 26 columns</p>\n</div>"
     },
     "metadata": {},
     "execution_count": 14
    }
   ],
   "source": [
    "air_two_extracted = extract(theme=\"air\", indicator=\"two\").pipe(validate_air_two_extracted)\n",
    "air_two_extracted.head()"
   ]
  },
  {
   "cell_type": "code",
   "execution_count": 16,
   "metadata": {},
   "outputs": [
    {
     "output_type": "execute_result",
     "data": {
      "text/plain": [
       "      NCFormat                                           IPCC  EmissionYear  \\\n",
       "0  Agriculture  1A4ci_Agriculture/Forestry/Fishing:Stationary          1990   \n",
       "1  Agriculture   1A4cii_Agriculture/Forestry/Fishing:Off-road          1990   \n",
       "2  Agriculture                              2D1_Lubricant_Use          1990   \n",
       "3  Agriculture         3A1a Enteric Fermentation - dairy cows          1990   \n",
       "4  Agriculture       3A1b Enteric Fermentation - other cattle          1990   \n",
       "\n",
       "     CO2 Equiv  \n",
       "0   448.236698  \n",
       "1  2719.368825  \n",
       "2     7.767285  \n",
       "3  4937.546160  \n",
       "4  6909.494541  "
      ],
      "text/html": "<div>\n<style scoped>\n    .dataframe tbody tr th:only-of-type {\n        vertical-align: middle;\n    }\n\n    .dataframe tbody tr th {\n        vertical-align: top;\n    }\n\n    .dataframe thead th {\n        text-align: right;\n    }\n</style>\n<table border=\"1\" class=\"dataframe\">\n  <thead>\n    <tr style=\"text-align: right;\">\n      <th></th>\n      <th>NCFormat</th>\n      <th>IPCC</th>\n      <th>EmissionYear</th>\n      <th>CO2 Equiv</th>\n    </tr>\n  </thead>\n  <tbody>\n    <tr>\n      <th>0</th>\n      <td>Agriculture</td>\n      <td>1A4ci_Agriculture/Forestry/Fishing:Stationary</td>\n      <td>1990</td>\n      <td>448.236698</td>\n    </tr>\n    <tr>\n      <th>1</th>\n      <td>Agriculture</td>\n      <td>1A4cii_Agriculture/Forestry/Fishing:Off-road</td>\n      <td>1990</td>\n      <td>2719.368825</td>\n    </tr>\n    <tr>\n      <th>2</th>\n      <td>Agriculture</td>\n      <td>2D1_Lubricant_Use</td>\n      <td>1990</td>\n      <td>7.767285</td>\n    </tr>\n    <tr>\n      <th>3</th>\n      <td>Agriculture</td>\n      <td>3A1a Enteric Fermentation - dairy cows</td>\n      <td>1990</td>\n      <td>4937.546160</td>\n    </tr>\n    <tr>\n      <th>4</th>\n      <td>Agriculture</td>\n      <td>3A1b Enteric Fermentation - other cattle</td>\n      <td>1990</td>\n      <td>6909.494541</td>\n    </tr>\n  </tbody>\n</table>\n</div>"
     },
     "metadata": {},
     "execution_count": 16
    }
   ],
   "source": [
    "air_two_transformed = transform_air_two(air_two_extracted).pipe(validate_air_two_transformed)\n",
    "air_two_transformed.head()"
   ]
  },
  {
   "cell_type": "code",
   "execution_count": 18,
   "metadata": {},
   "outputs": [
    {
     "output_type": "execute_result",
     "data": {
      "text/plain": [
       "    OIF_category  EmissionYear     CO2 Equiv\n",
       "0    Agriculture          1990  33483.078737\n",
       "1    Agriculture          1995  32023.748698\n",
       "2    Agriculture          1998  31845.280086\n",
       "3    Agriculture          1999  31873.301211\n",
       "4    Agriculture          2000  30221.892227\n",
       "..           ...           ...           ...\n",
       "110        Waste          2014  17708.697346\n",
       "111        Waste          2015  16940.514733\n",
       "112        Waste          2016  16437.123344\n",
       "113        Waste          2017  16805.735929\n",
       "114        Waste          2018  17027.476692\n",
       "\n",
       "[115 rows x 3 columns]"
      ],
      "text/html": "<div>\n<style scoped>\n    .dataframe tbody tr th:only-of-type {\n        vertical-align: middle;\n    }\n\n    .dataframe tbody tr th {\n        vertical-align: top;\n    }\n\n    .dataframe thead th {\n        text-align: right;\n    }\n</style>\n<table border=\"1\" class=\"dataframe\">\n  <thead>\n    <tr style=\"text-align: right;\">\n      <th></th>\n      <th>OIF_category</th>\n      <th>EmissionYear</th>\n      <th>CO2 Equiv</th>\n    </tr>\n  </thead>\n  <tbody>\n    <tr>\n      <th>0</th>\n      <td>Agriculture</td>\n      <td>1990</td>\n      <td>33483.078737</td>\n    </tr>\n    <tr>\n      <th>1</th>\n      <td>Agriculture</td>\n      <td>1995</td>\n      <td>32023.748698</td>\n    </tr>\n    <tr>\n      <th>2</th>\n      <td>Agriculture</td>\n      <td>1998</td>\n      <td>31845.280086</td>\n    </tr>\n    <tr>\n      <th>3</th>\n      <td>Agriculture</td>\n      <td>1999</td>\n      <td>31873.301211</td>\n    </tr>\n    <tr>\n      <th>4</th>\n      <td>Agriculture</td>\n      <td>2000</td>\n      <td>30221.892227</td>\n    </tr>\n    <tr>\n      <th>...</th>\n      <td>...</td>\n      <td>...</td>\n      <td>...</td>\n    </tr>\n    <tr>\n      <th>110</th>\n      <td>Waste</td>\n      <td>2014</td>\n      <td>17708.697346</td>\n    </tr>\n    <tr>\n      <th>111</th>\n      <td>Waste</td>\n      <td>2015</td>\n      <td>16940.514733</td>\n    </tr>\n    <tr>\n      <th>112</th>\n      <td>Waste</td>\n      <td>2016</td>\n      <td>16437.123344</td>\n    </tr>\n    <tr>\n      <th>113</th>\n      <td>Waste</td>\n      <td>2017</td>\n      <td>16805.735929</td>\n    </tr>\n    <tr>\n      <th>114</th>\n      <td>Waste</td>\n      <td>2018</td>\n      <td>17027.476692</td>\n    </tr>\n  </tbody>\n</table>\n<p>115 rows × 3 columns</p>\n</div>"
     },
     "metadata": {},
     "execution_count": 18
    }
   ],
   "source": [
    "air_two_enriched = enrich_air_two(air_two_transformed).pipe(validate_air_two_enriched)\n",
    "air_two_enriched"
   ]
  },
  {
   "source": [
    "## Air Three"
   ],
   "cell_type": "markdown",
   "metadata": {}
  },
  {
   "cell_type": "code",
   "execution_count": 20,
   "metadata": {},
   "outputs": [],
   "source": [
    "from oiflib.air.three.extract import extract_air_three\n",
    "from oiflib.air.three.transform import transform_air_three\n",
    "from oiflib.air.three.validate import validate_air_three_extracted, validate_air_three_transformed"
   ]
  },
  {
   "cell_type": "code",
   "execution_count": 22,
   "metadata": {},
   "outputs": [
    {
     "output_type": "execute_result",
     "data": {
      "text/plain": [
       "  Area code  PM2.5 2011 (total)  PM2.5 2011 (non-anthropogenic)  \\\n",
       "0       Eng             12.0891                          2.6357   \n",
       "1       Wal              9.4192                          2.7214   \n",
       "2       Sco              8.0037                          2.5759   \n",
       "3       Nir              7.7701                          2.7103   \n",
       "\n",
       "   PM2.5 2011 (anthropogenic)           Country  PM2.5 2012 (total)  \\\n",
       "0                      9.4535           England             11.1081   \n",
       "1                      6.6978             Wales              8.7860   \n",
       "2                      5.4277          Scotland              7.6107   \n",
       "3                      5.0598  Northern Ireland              7.6487   \n",
       "\n",
       "   PM2.5 2012 (non-anthropogenic)  PM2.5 2012 (anthropogenic)  \\\n",
       "0                          2.1095                      8.9986   \n",
       "1                          2.1979                      6.5880   \n",
       "2                          2.0355                      5.5752   \n",
       "3                          2.1100                      5.5386   \n",
       "\n",
       "   PM2.5 2013 (total)  PM2.5 2013 (non-anthropogenic)  ...  \\\n",
       "0             11.5227                          2.1314  ...   \n",
       "1              9.9034                          2.2408  ...   \n",
       "2              7.8215                          2.0360  ...   \n",
       "3              8.7661                          2.2440  ...   \n",
       "\n",
       "   PM2.5 2016 (anthropogenic)  PM2.5 2017 (total)  \\\n",
       "0                      9.4566              9.4113   \n",
       "1                      7.5940              7.0468   \n",
       "2                      5.2794              5.8877   \n",
       "3                      6.1638              6.1617   \n",
       "\n",
       "   PM2.5 2017 (non-anthropogenic)  PM2.5 2017 (anthropogenic)  \\\n",
       "0                          0.5073                      8.9040   \n",
       "1                          0.5102                      6.5366   \n",
       "2                          0.4607                      5.4270   \n",
       "3                          0.5045                      5.6572   \n",
       "\n",
       "   PM2.5 2018 (total)  PM2.5 2018 (non-anthropogenic)  \\\n",
       "0              9.5246                          0.4429   \n",
       "1              7.7765                          0.5999   \n",
       "2              5.7886                          0.3816   \n",
       "3              7.4441                          0.5812   \n",
       "\n",
       "   PM2.5 2018 (anthropogenic)  PM2.5 2019 (total)  \\\n",
       "0                      9.0817              9.5741   \n",
       "1                      7.1766              7.5190   \n",
       "2                      5.4070              5.5153   \n",
       "3                      6.8629              5.8943   \n",
       "\n",
       "   PM2.5 2019 (non-anthropogenic)  PM2.5 2019 (anthropogenic)  \n",
       "0                          0.5311                      9.0430  \n",
       "1                          0.5881                      6.9308  \n",
       "2                          0.3569                      5.1584  \n",
       "3                          0.4429                      5.4514  \n",
       "\n",
       "[4 rows x 29 columns]"
      ],
      "text/html": "<div>\n<style scoped>\n    .dataframe tbody tr th:only-of-type {\n        vertical-align: middle;\n    }\n\n    .dataframe tbody tr th {\n        vertical-align: top;\n    }\n\n    .dataframe thead th {\n        text-align: right;\n    }\n</style>\n<table border=\"1\" class=\"dataframe\">\n  <thead>\n    <tr style=\"text-align: right;\">\n      <th></th>\n      <th>Area code</th>\n      <th>PM2.5 2011 (total)</th>\n      <th>PM2.5 2011 (non-anthropogenic)</th>\n      <th>PM2.5 2011 (anthropogenic)</th>\n      <th>Country</th>\n      <th>PM2.5 2012 (total)</th>\n      <th>PM2.5 2012 (non-anthropogenic)</th>\n      <th>PM2.5 2012 (anthropogenic)</th>\n      <th>PM2.5 2013 (total)</th>\n      <th>PM2.5 2013 (non-anthropogenic)</th>\n      <th>...</th>\n      <th>PM2.5 2016 (anthropogenic)</th>\n      <th>PM2.5 2017 (total)</th>\n      <th>PM2.5 2017 (non-anthropogenic)</th>\n      <th>PM2.5 2017 (anthropogenic)</th>\n      <th>PM2.5 2018 (total)</th>\n      <th>PM2.5 2018 (non-anthropogenic)</th>\n      <th>PM2.5 2018 (anthropogenic)</th>\n      <th>PM2.5 2019 (total)</th>\n      <th>PM2.5 2019 (non-anthropogenic)</th>\n      <th>PM2.5 2019 (anthropogenic)</th>\n    </tr>\n  </thead>\n  <tbody>\n    <tr>\n      <th>0</th>\n      <td>Eng</td>\n      <td>12.0891</td>\n      <td>2.6357</td>\n      <td>9.4535</td>\n      <td>England</td>\n      <td>11.1081</td>\n      <td>2.1095</td>\n      <td>8.9986</td>\n      <td>11.5227</td>\n      <td>2.1314</td>\n      <td>...</td>\n      <td>9.4566</td>\n      <td>9.4113</td>\n      <td>0.5073</td>\n      <td>8.9040</td>\n      <td>9.5246</td>\n      <td>0.4429</td>\n      <td>9.0817</td>\n      <td>9.5741</td>\n      <td>0.5311</td>\n      <td>9.0430</td>\n    </tr>\n    <tr>\n      <th>1</th>\n      <td>Wal</td>\n      <td>9.4192</td>\n      <td>2.7214</td>\n      <td>6.6978</td>\n      <td>Wales</td>\n      <td>8.7860</td>\n      <td>2.1979</td>\n      <td>6.5880</td>\n      <td>9.9034</td>\n      <td>2.2408</td>\n      <td>...</td>\n      <td>7.5940</td>\n      <td>7.0468</td>\n      <td>0.5102</td>\n      <td>6.5366</td>\n      <td>7.7765</td>\n      <td>0.5999</td>\n      <td>7.1766</td>\n      <td>7.5190</td>\n      <td>0.5881</td>\n      <td>6.9308</td>\n    </tr>\n    <tr>\n      <th>2</th>\n      <td>Sco</td>\n      <td>8.0037</td>\n      <td>2.5759</td>\n      <td>5.4277</td>\n      <td>Scotland</td>\n      <td>7.6107</td>\n      <td>2.0355</td>\n      <td>5.5752</td>\n      <td>7.8215</td>\n      <td>2.0360</td>\n      <td>...</td>\n      <td>5.2794</td>\n      <td>5.8877</td>\n      <td>0.4607</td>\n      <td>5.4270</td>\n      <td>5.7886</td>\n      <td>0.3816</td>\n      <td>5.4070</td>\n      <td>5.5153</td>\n      <td>0.3569</td>\n      <td>5.1584</td>\n    </tr>\n    <tr>\n      <th>3</th>\n      <td>Nir</td>\n      <td>7.7701</td>\n      <td>2.7103</td>\n      <td>5.0598</td>\n      <td>Northern Ireland</td>\n      <td>7.6487</td>\n      <td>2.1100</td>\n      <td>5.5386</td>\n      <td>8.7661</td>\n      <td>2.2440</td>\n      <td>...</td>\n      <td>6.1638</td>\n      <td>6.1617</td>\n      <td>0.5045</td>\n      <td>5.6572</td>\n      <td>7.4441</td>\n      <td>0.5812</td>\n      <td>6.8629</td>\n      <td>5.8943</td>\n      <td>0.4429</td>\n      <td>5.4514</td>\n    </tr>\n  </tbody>\n</table>\n<p>4 rows × 29 columns</p>\n</div>"
     },
     "metadata": {},
     "execution_count": 22
    }
   ],
   "source": [
    "air_three_extracted = extract_air_three().pipe(validate_air_three_extracted)\n",
    "air_three_extracted.head()"
   ]
  },
  {
   "cell_type": "code",
   "execution_count": 23,
   "metadata": {},
   "outputs": [
    {
     "output_type": "execute_result",
     "data": {
      "text/plain": [
       "   Area code  Country  year measure    ugm-3\n",
       "0        Eng  England  2011   total  12.0891\n",
       "12       Eng  England  2012   total  11.1081\n",
       "24       Eng  England  2013   total  11.5227\n",
       "36       Eng  England  2014   total  11.1680\n",
       "48       Eng  England  2015   total   9.4215"
      ],
      "text/html": "<div>\n<style scoped>\n    .dataframe tbody tr th:only-of-type {\n        vertical-align: middle;\n    }\n\n    .dataframe tbody tr th {\n        vertical-align: top;\n    }\n\n    .dataframe thead th {\n        text-align: right;\n    }\n</style>\n<table border=\"1\" class=\"dataframe\">\n  <thead>\n    <tr style=\"text-align: right;\">\n      <th></th>\n      <th>Area code</th>\n      <th>Country</th>\n      <th>year</th>\n      <th>measure</th>\n      <th>ugm-3</th>\n    </tr>\n  </thead>\n  <tbody>\n    <tr>\n      <th>0</th>\n      <td>Eng</td>\n      <td>England</td>\n      <td>2011</td>\n      <td>total</td>\n      <td>12.0891</td>\n    </tr>\n    <tr>\n      <th>12</th>\n      <td>Eng</td>\n      <td>England</td>\n      <td>2012</td>\n      <td>total</td>\n      <td>11.1081</td>\n    </tr>\n    <tr>\n      <th>24</th>\n      <td>Eng</td>\n      <td>England</td>\n      <td>2013</td>\n      <td>total</td>\n      <td>11.5227</td>\n    </tr>\n    <tr>\n      <th>36</th>\n      <td>Eng</td>\n      <td>England</td>\n      <td>2014</td>\n      <td>total</td>\n      <td>11.1680</td>\n    </tr>\n    <tr>\n      <th>48</th>\n      <td>Eng</td>\n      <td>England</td>\n      <td>2015</td>\n      <td>total</td>\n      <td>9.4215</td>\n    </tr>\n  </tbody>\n</table>\n</div>"
     },
     "metadata": {},
     "execution_count": 23
    }
   ],
   "source": [
    "air_three_transformed = transform_air_three(air_three_extracted).pipe(validate_air_three_transformed)\n",
    "air_three_transformed.head()"
   ]
  },
  {
   "cell_type": "code",
   "execution_count": null,
   "metadata": {},
   "outputs": [],
   "source": []
  }
 ]
}
